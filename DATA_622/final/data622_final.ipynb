{
  "cells": [
    {
      "cell_type": "markdown",
      "metadata": {
        "id": "view-in-github",
        "colab_type": "text"
      },
      "source": [
        "<a href=\"https://colab.research.google.com/github/schoolkidrich/CUNY_MSDS/blob/main/DATA_622/final/data622_final.ipynb\" target=\"_parent\"><img src=\"https://colab.research.google.com/assets/colab-badge.svg\" alt=\"Open In Colab\"/></a>"
      ]
    },
    {
      "cell_type": "markdown",
      "metadata": {
        "id": "eZ-Y7onNUC1V"
      },
      "source": [
        "# **Data 622 - Final Project**\n",
        "**Authors:** Devin Teran, Dennis Pong, Richard Zheng, Katie Evers\n",
        "\n",
        "**Date:** 12/10/2021"
      ]
    },
    {
      "cell_type": "markdown",
      "metadata": {
        "id": "Eg0spS_6m-Cz"
      },
      "source": [
        "# **Introduction**\n",
        "\n",
        "**Background**  \n",
        "For our final project we analyzed a dataset that contains information about mall customers, which includes age, gender, annual income, and spending score.  This dataset was obtained from [Kaggle](https://www.kaggle.com/vjchoudhary7/customer-segmentation-tutorial-in-python).  \n",
        "\n",
        "**Problem Statement**  \n",
        "In our analysis we will use machine learning techniques to develop customer segmentation and predict spending score."
      ]
    },
    {
      "cell_type": "markdown",
      "metadata": {
        "id": "w82Z1dD0L5vY"
      },
      "source": [
        "# **Importing Libraries and Data**\n"
      ]
    },
    {
      "cell_type": "code",
      "execution_count": null,
      "metadata": {
        "id": "GghPGC9qZoTv"
      },
      "outputs": [],
      "source": [
        "# !pip install pycaret\n",
        "# !pip install pycaret-nightly\n",
        "# !pip install scikit-learn==0.24"
      ]
    },
    {
      "cell_type": "code",
      "execution_count": null,
      "metadata": {
        "id": "oLg-oNQErRBn"
      },
      "outputs": [],
      "source": [
        "import numpy as np\n",
        "import pandas as pd\n",
        "import xgboost as xgb\n",
        "import seaborn as sns\n",
        "import matplotlib.pyplot as plt\n",
        "from sklearn.cluster import KMeans\n",
        "from sklearn.model_selection import train_test_split\n",
        "from sklearn.pipeline import Pipeline\n",
        "from sklearn.preprocessing import OneHotEncoder, StandardScaler\n",
        "from sklearn.compose import ColumnTransformer, make_column_selector\n",
        "from sklearn.linear_model import LinearRegression, LogisticRegression\n",
        "from sklearn.tree import DecisionTreeClassifier\n",
        "from sklearn.metrics import classification_report, confusion_matrix, mean_squared_error, r2_score, mean_absolute_percentage_error\n",
        "from sklearn.preprocessing import LabelEncoder\n",
        "from sklearn import metrics\n",
        "from matplotlib.legend_handler import HandlerLine2D"
      ]
    },
    {
      "cell_type": "code",
      "execution_count": null,
      "metadata": {
        "id": "DCPOU03kr4sy"
      },
      "outputs": [],
      "source": [
        "link = 'https://raw.githubusercontent.com/schoolkidrich/CUNY_MSDS/main/DATA_622/final/Mall_Customers.csv'\n",
        "df = pd.read_csv(link, index_col = 'CustomerID')"
      ]
    },
    {
      "cell_type": "markdown",
      "metadata": {
        "id": "mFgBCg_MMpK5"
      },
      "source": [
        "# **Data Overview**\n",
        "\n",
        "---\n",
        "\n",
        "\n",
        "**Gender** (categorical) - gender of the customer\n",
        "\n",
        "**Age** (integer) - age of the customer\n",
        "\n",
        "**Annual Income (k$)** (integer) - how much does the customer make annually in thousands\n",
        "\n",
        "**Spending Score** (integer) - this is a score (0-100) for how much a customer will spend based on their purchase history and customer data.  In several of our models, this will be our target variable that we will be predicting.\n",
        "\n",
        "---\n",
        "\n",
        "\n",
        "\n",
        "This dataset contains 200 rows and 4 columns (3 numerical and 1 categorical). It is very clean with no missing values."
      ]
    },
    {
      "cell_type": "code",
      "execution_count": null,
      "metadata": {
        "colab": {
          "base_uri": "https://localhost:8080/",
          "height": 238
        },
        "id": "19ZZ5QQcMskx",
        "outputId": "70435828-3f12-4cda-e304-99f459d31896"
      },
      "outputs": [
        {
          "output_type": "execute_result",
          "data": {
            "text/html": [
              "<div>\n",
              "<style scoped>\n",
              "    .dataframe tbody tr th:only-of-type {\n",
              "        vertical-align: middle;\n",
              "    }\n",
              "\n",
              "    .dataframe tbody tr th {\n",
              "        vertical-align: top;\n",
              "    }\n",
              "\n",
              "    .dataframe thead th {\n",
              "        text-align: right;\n",
              "    }\n",
              "</style>\n",
              "<table border=\"1\" class=\"dataframe\">\n",
              "  <thead>\n",
              "    <tr style=\"text-align: right;\">\n",
              "      <th></th>\n",
              "      <th>Gender</th>\n",
              "      <th>Age</th>\n",
              "      <th>Annual Income (k$)</th>\n",
              "      <th>Spending Score (1-100)</th>\n",
              "    </tr>\n",
              "    <tr>\n",
              "      <th>CustomerID</th>\n",
              "      <th></th>\n",
              "      <th></th>\n",
              "      <th></th>\n",
              "      <th></th>\n",
              "    </tr>\n",
              "  </thead>\n",
              "  <tbody>\n",
              "    <tr>\n",
              "      <th>1</th>\n",
              "      <td>Male</td>\n",
              "      <td>19</td>\n",
              "      <td>15</td>\n",
              "      <td>39</td>\n",
              "    </tr>\n",
              "    <tr>\n",
              "      <th>2</th>\n",
              "      <td>Male</td>\n",
              "      <td>21</td>\n",
              "      <td>15</td>\n",
              "      <td>81</td>\n",
              "    </tr>\n",
              "    <tr>\n",
              "      <th>3</th>\n",
              "      <td>Female</td>\n",
              "      <td>20</td>\n",
              "      <td>16</td>\n",
              "      <td>6</td>\n",
              "    </tr>\n",
              "    <tr>\n",
              "      <th>4</th>\n",
              "      <td>Female</td>\n",
              "      <td>23</td>\n",
              "      <td>16</td>\n",
              "      <td>77</td>\n",
              "    </tr>\n",
              "    <tr>\n",
              "      <th>5</th>\n",
              "      <td>Female</td>\n",
              "      <td>31</td>\n",
              "      <td>17</td>\n",
              "      <td>40</td>\n",
              "    </tr>\n",
              "  </tbody>\n",
              "</table>\n",
              "</div>"
            ],
            "text/plain": [
              "            Gender  Age  Annual Income (k$)  Spending Score (1-100)\n",
              "CustomerID                                                         \n",
              "1             Male   19                  15                      39\n",
              "2             Male   21                  15                      81\n",
              "3           Female   20                  16                       6\n",
              "4           Female   23                  16                      77\n",
              "5           Female   31                  17                      40"
            ]
          },
          "metadata": {},
          "execution_count": 5
        }
      ],
      "source": [
        "df.head()"
      ]
    },
    {
      "cell_type": "code",
      "execution_count": null,
      "metadata": {
        "colab": {
          "base_uri": "https://localhost:8080/"
        },
        "id": "-caHFwKkqT1u",
        "outputId": "c1b1c5c5-fa98-4b12-b210-c78543220ca4"
      },
      "outputs": [
        {
          "output_type": "stream",
          "name": "stdout",
          "text": [
            "<class 'pandas.core.frame.DataFrame'>\n",
            "Int64Index: 200 entries, 1 to 200\n",
            "Data columns (total 4 columns):\n",
            " #   Column                  Non-Null Count  Dtype \n",
            "---  ------                  --------------  ----- \n",
            " 0   Gender                  200 non-null    object\n",
            " 1   Age                     200 non-null    int64 \n",
            " 2   Annual Income (k$)      200 non-null    int64 \n",
            " 3   Spending Score (1-100)  200 non-null    int64 \n",
            "dtypes: int64(3), object(1)\n",
            "memory usage: 7.8+ KB\n"
          ]
        }
      ],
      "source": [
        "df.info()"
      ]
    },
    {
      "cell_type": "code",
      "execution_count": null,
      "metadata": {
        "colab": {
          "base_uri": "https://localhost:8080/"
        },
        "id": "3ZqYQcKYqvQb",
        "outputId": "8ecab979-5f0f-434f-c757-f6a6c1661119"
      },
      "outputs": [
        {
          "output_type": "execute_result",
          "data": {
            "text/plain": [
              "Gender                    0\n",
              "Age                       0\n",
              "Annual Income (k$)        0\n",
              "Spending Score (1-100)    0\n",
              "dtype: int64"
            ]
          },
          "metadata": {},
          "execution_count": 7
        }
      ],
      "source": [
        "df.isnull().sum()"
      ]
    },
    {
      "cell_type": "markdown",
      "metadata": {
        "id": "0wshmvjir8hj"
      },
      "source": [
        "# **Exploratory Data Analysis**\n",
        "\n",
        "First let's get an idea of the distribution of our numerical variables.\n",
        "*   The mean **age** is 38.85\n",
        "*   The mean **annual income** is $60,560\n",
        "*   The mean **spending score** is 50.20\n",
        "*   The minimum and maximum values of all three of these variables indicate that the data is widespread and has greater variability\n",
        "\n"
      ]
    },
    {
      "cell_type": "code",
      "execution_count": null,
      "metadata": {
        "colab": {
          "base_uri": "https://localhost:8080/",
          "height": 143
        },
        "id": "tIM-3xxK3joo",
        "outputId": "58e9d745-8e09-4464-c43e-dfc69faade45"
      },
      "outputs": [
        {
          "output_type": "execute_result",
          "data": {
            "text/html": [
              "<div>\n",
              "<style scoped>\n",
              "    .dataframe tbody tr th:only-of-type {\n",
              "        vertical-align: middle;\n",
              "    }\n",
              "\n",
              "    .dataframe tbody tr th {\n",
              "        vertical-align: top;\n",
              "    }\n",
              "\n",
              "    .dataframe thead th {\n",
              "        text-align: right;\n",
              "    }\n",
              "</style>\n",
              "<table border=\"1\" class=\"dataframe\">\n",
              "  <thead>\n",
              "    <tr style=\"text-align: right;\">\n",
              "      <th></th>\n",
              "      <th>count</th>\n",
              "      <th>mean</th>\n",
              "      <th>std</th>\n",
              "      <th>min</th>\n",
              "      <th>25%</th>\n",
              "      <th>50%</th>\n",
              "      <th>75%</th>\n",
              "      <th>max</th>\n",
              "    </tr>\n",
              "  </thead>\n",
              "  <tbody>\n",
              "    <tr>\n",
              "      <th>Age</th>\n",
              "      <td>200.0</td>\n",
              "      <td>38.85</td>\n",
              "      <td>13.969007</td>\n",
              "      <td>18.0</td>\n",
              "      <td>28.75</td>\n",
              "      <td>36.0</td>\n",
              "      <td>49.0</td>\n",
              "      <td>70.0</td>\n",
              "    </tr>\n",
              "    <tr>\n",
              "      <th>Annual Income (k$)</th>\n",
              "      <td>200.0</td>\n",
              "      <td>60.56</td>\n",
              "      <td>26.264721</td>\n",
              "      <td>15.0</td>\n",
              "      <td>41.50</td>\n",
              "      <td>61.5</td>\n",
              "      <td>78.0</td>\n",
              "      <td>137.0</td>\n",
              "    </tr>\n",
              "    <tr>\n",
              "      <th>Spending Score (1-100)</th>\n",
              "      <td>200.0</td>\n",
              "      <td>50.20</td>\n",
              "      <td>25.823522</td>\n",
              "      <td>1.0</td>\n",
              "      <td>34.75</td>\n",
              "      <td>50.0</td>\n",
              "      <td>73.0</td>\n",
              "      <td>99.0</td>\n",
              "    </tr>\n",
              "  </tbody>\n",
              "</table>\n",
              "</div>"
            ],
            "text/plain": [
              "                        count   mean        std   min    25%   50%   75%    max\n",
              "Age                     200.0  38.85  13.969007  18.0  28.75  36.0  49.0   70.0\n",
              "Annual Income (k$)      200.0  60.56  26.264721  15.0  41.50  61.5  78.0  137.0\n",
              "Spending Score (1-100)  200.0  50.20  25.823522   1.0  34.75  50.0  73.0   99.0"
            ]
          },
          "metadata": {},
          "execution_count": 8
        }
      ],
      "source": [
        "df.describe().T"
      ]
    },
    {
      "cell_type": "markdown",
      "metadata": {
        "id": "6qsE5g1L3sP1"
      },
      "source": [
        "Looking at the below boxplots, we can see that there is one outlier in **annual income** of $137,000"
      ]
    },
    {
      "cell_type": "code",
      "execution_count": null,
      "metadata": {
        "colab": {
          "base_uri": "https://localhost:8080/",
          "height": 282
        },
        "id": "8XLv-A0iLcO8",
        "outputId": "a6d4c11d-6658-4861-95aa-5667a9ec6d97"
      },
      "outputs": [
        {
          "output_type": "execute_result",
          "data": {
            "text/plain": [
              "<matplotlib.axes._subplots.AxesSubplot at 0x7fc247de4d50>"
            ]
          },
          "metadata": {},
          "execution_count": 9
        },
        {
          "output_type": "display_data",
          "data": {
            "image/png": "[encoded data removed]",
            "text/plain": [
              "<Figure size 432x288 with 1 Axes>"
            ]
          },
          "metadata": {
            "needs_background": "light"
          }
        }
      ],
      "source": [
        "df.boxplot(column=['Age', 'Annual Income (k$)', 'Spending Score (1-100)'])"
      ]
    },
    {
      "cell_type": "markdown",
      "metadata": {
        "id": "PNngEAaItM_P"
      },
      "source": [
        "Next let's look at how the categorical variable is distributed. From the plot we see that gender is pretty balanced with 56% females and 44% males."
      ]
    },
    {
      "cell_type": "code",
      "execution_count": null,
      "metadata": {
        "colab": {
          "base_uri": "https://localhost:8080/",
          "height": 312
        },
        "id": "rs2PTBxEts2p",
        "outputId": "893ed7db-578f-4b06-dc3f-a9f98701c845"
      },
      "outputs": [
        {
          "output_type": "execute_result",
          "data": {
            "text/plain": [
              "<matplotlib.axes._subplots.AxesSubplot at 0x7fc247cfb8d0>"
            ]
          },
          "metadata": {},
          "execution_count": 10
        },
        {
          "output_type": "display_data",
          "data": {
            "image/png": "[encoded data removed]",
            "text/plain": [
              "<Figure size 432x288 with 1 Axes>"
            ]
          },
          "metadata": {
            "needs_background": "light"
          }
        }
      ],
      "source": [
        "plt.title('Gender Distribution')\n",
        "sns.countplot(x=df['Gender'])"
      ]
    },
    {
      "cell_type": "code",
      "execution_count": null,
      "metadata": {
        "colab": {
          "base_uri": "https://localhost:8080/"
        },
        "id": "RWnpUKozv9vY",
        "outputId": "352ee6e7-e67a-4c3d-8bc9-72e6d1419a1c"
      },
      "outputs": [
        {
          "output_type": "stream",
          "name": "stdout",
          "text": [
            "There are 112 males and 88 females\n"
          ]
        }
      ],
      "source": [
        "value_cnt = df['Gender'].value_counts()\n",
        "print(\"There are\",value_cnt[0], \"males and\",value_cnt[1], \"females\")"
      ]
    },
    {
      "cell_type": "markdown",
      "metadata": {
        "id": "i4uNQsVB38js"
      },
      "source": [
        "Now we want to view the relationships of the different variables while keeping in mind how **Gender** might affect these relationships.   \n",
        "\n",
        "From the plots below it is evident that there are more females than males aged around the mean of 39, annual income is distributed fairly similarly, and females tend to have a higher spending score than males.   \n",
        "\n",
        "From the age and spending score scatter plot, it is evident that for both genders age and spending score have a negative correlation. There doesn't seem to be a correlation in the age and annual income scatter plot.  \n",
        "\n",
        "In the spending score and annual income scatter plot there seem to be five clusters:  \n",
        "  1. Low spending score, low annual income\n",
        "  2. Low spending score, high annual income\n",
        "  3. Medium spending score, medium annual income\n",
        "  4. High spending score, low annual income\n",
        "  5. High spending score, high annual income"
      ]
    },
    {
      "cell_type": "code",
      "execution_count": null,
      "metadata": {
        "colab": {
          "base_uri": "https://localhost:8080/",
          "height": 885
        },
        "id": "gK3OKH9gH78g",
        "outputId": "01f3bede-51e0-40cc-e413-75b5aecace29"
      },
      "outputs": [
        {
          "output_type": "execute_result",
          "data": {
            "text/plain": [
              "<seaborn.axisgrid.PairGrid at 0x7fc24782f250>"
            ]
          },
          "metadata": {},
          "execution_count": 12
        },
        {
          "output_type": "display_data",
          "data": {
            "image/png": "[encoded data removed]",
            "text/plain": [
              "<Figure size 936.125x864 with 9 Axes>"
            ]
          },
          "metadata": {
            "needs_background": "light"
          }
        }
      ],
      "source": [
        "sns.pairplot(df.loc[:, df.columns != 'CustomerID'],hue=\"Gender\", corner=True, height=4)"
      ]
    },
    {
      "cell_type": "markdown",
      "metadata": {
        "id": "tOYXMReLzNnM"
      },
      "source": [
        "Now let's determine if there is any correlation between any of the variables by gender. Comparing the plots below, we see that females and males have opposite correlations for the following:\n",
        "  1. Age and annual income\n",
        "  2. Annual income and spending score\n",
        "\n",
        "In addition, the correlation between age and spending score is larger for females than males."
      ]
    },
    {
      "cell_type": "code",
      "execution_count": null,
      "metadata": {
        "colab": {
          "base_uri": "https://localhost:8080/",
          "height": 406
        },
        "id": "QAeKZ65ty1pj",
        "outputId": "71091f12-6cd0-4434-a36b-1ea06fa33042"
      },
      "outputs": [
        {
          "output_type": "execute_result",
          "data": {
            "text/plain": [
              "<matplotlib.axes._subplots.AxesSubplot at 0x7fc23c1be110>"
            ]
          },
          "metadata": {},
          "execution_count": 13
        },
        {
          "output_type": "display_data",
          "data": {
            "image/png": "[encoded data removed]",
            "text/plain": [
              "<Figure size 432x288 with 2 Axes>"
            ]
          },
          "metadata": {
            "needs_background": "light"
          }
        }
      ],
      "source": [
        "males= df[df['Gender'] == 'Male']\n",
        "females = df[df['Gender'] == 'Female']\n",
        "\n",
        "plt.title('Female Correlation Heatmap')\n",
        "sns.heatmap(females.corr(), annot=True)"
      ]
    },
    {
      "cell_type": "code",
      "execution_count": null,
      "metadata": {
        "colab": {
          "base_uri": "https://localhost:8080/",
          "height": 406
        },
        "id": "PYEBU0mIzG1a",
        "outputId": "fa97df73-f1be-4461-9277-8af26f8ff941"
      },
      "outputs": [
        {
          "output_type": "execute_result",
          "data": {
            "text/plain": [
              "<matplotlib.axes._subplots.AxesSubplot at 0x7fc23a89da50>"
            ]
          },
          "metadata": {},
          "execution_count": 14
        },
        {
          "output_type": "display_data",
          "data": {
            "image/png": "[encoded data removed]",
            "text/plain": [
              "<Figure size 432x288 with 2 Axes>"
            ]
          },
          "metadata": {
            "needs_background": "light"
          }
        }
      ],
      "source": [
        "plt.title('Male Correlation Heatmap')\n",
        "sns.heatmap(males.corr(), annot=True)"
      ]
    },
    {
      "cell_type": "markdown",
      "metadata": {
        "id": "bYxhvTlBr_EI"
      },
      "source": [
        "#1 Clustering Techniques\n",
        "Here we will start by using kmeans clustering to see if find meaningful groups within the customers based on their characteristics. This is called customer segmentation.  Marketers do this in order to better advertise to their customers in an effort to increase customer conversion. We'll start by looking for clusters using age and annual income.  \n",
        "\n",
        "Here we are running kmeans clustering 10 times starting with 1 clustering and increasing until we have 10 clusters.  With each run we are noting the ineritia value.  In Kmeans clustering, the best number of clusters has the lowest inertia value and lowest number of clusters. "
      ]
    },
    {
      "cell_type": "code",
      "execution_count": null,
      "metadata": {
        "colab": {
          "base_uri": "https://localhost:8080/",
          "height": 279
        },
        "id": "O4ui2YHZr_Ma",
        "outputId": "6d53c8db-d79a-471f-fcfe-b92e0c1b3e9a"
      },
      "outputs": [
        {
          "output_type": "display_data",
          "data": {
            "image/png": "[encoded data removed]",
            "text/plain": [
              "<Figure size 432x288 with 1 Axes>"
            ]
          },
          "metadata": {
            "needs_background": "light"
          }
        }
      ],
      "source": [
        "ss=[]\n",
        "for i in range(1,11):\n",
        "  kmeans = KMeans(i)\n",
        "  kmeans.fit(df[['Age','Annual Income (k$)']])\n",
        "  ss.append(kmeans.inertia_)\n",
        "\n",
        "plt.plot(range(1,11),ss,marker='o')\n",
        "plt.xlabel('Number of Clusters')\n",
        "plt.ylabel('Inertia')\n",
        "plt.show()\n",
        "\n"
      ]
    },
    {
      "cell_type": "markdown",
      "metadata": {
        "id": "-qXtKLnHD8BW"
      },
      "source": [
        "We will choose 4 as our number of clusters to create.  Even though the inertia continues to decrease, it isn't significant and the number of clusters continues to increase, which we don't want.\n",
        "\n",
        "Now we will plot what 4 clusters looks like with our data."
      ]
    },
    {
      "cell_type": "code",
      "execution_count": null,
      "metadata": {
        "colab": {
          "base_uri": "https://localhost:8080/",
          "height": 296
        },
        "id": "0SBSTZIN-6Aw",
        "outputId": "9d75d768-6ec3-47eb-dd2f-52f85158ecf7"
      },
      "outputs": [
        {
          "output_type": "execute_result",
          "data": {
            "text/plain": [
              "<matplotlib.collections.PathCollection at 0x7fc239f92510>"
            ]
          },
          "metadata": {},
          "execution_count": 16
        },
        {
          "output_type": "display_data",
          "data": {
            "image/png": "[encoded data removed]",
            "text/plain": [
              "<Figure size 432x288 with 1 Axes>"
            ]
          },
          "metadata": {
            "needs_background": "light"
          }
        }
      ],
      "source": [
        "kmeans = KMeans(4)\n",
        "kmeans.fit(df[['Age','Annual Income (k$)']])\n",
        "  \n",
        "df['Predicted_Cluster'] = kmeans.fit_predict(df[['Age','Annual Income (k$)']])\n",
        "plt.xlabel('Age')\n",
        "plt.ylabel('Annual Income (k$)')\n",
        "plt.scatter(df['Age'],df['Annual Income (k$)'],c=df['Predicted_Cluster'],cmap='rainbow')"
      ]
    },
    {
      "cell_type": "markdown",
      "metadata": {
        "id": "Yi-vOaGDEIb-"
      },
      "source": [
        "#####**Cluster Findings**\n",
        "\n",
        "\n",
        "*   If salary is under $60,000, then there appears to be a slight trend that the older you are the more money you make\n",
        "*   When annual salary >\\$60,000, it appears age factors less into income with the exception of customers over the age of 60.  Customers over 60 do not appear to be hire earners, which would makes sense if they are retired.\n",
        "* Collecting additional data like occupation and average purchase amount would be helpful for the mall and could help improve the clustering results\n",
        "\n",
        "\n"
      ]
    },
    {
      "cell_type": "markdown",
      "metadata": {
        "id": "xJlkaFuVHOwh"
      },
      "source": [
        "## Adding in Gender\n",
        "Our data has 2 values for Gender: **Female** and **Male**.  "
      ]
    },
    {
      "cell_type": "code",
      "execution_count": null,
      "metadata": {
        "colab": {
          "base_uri": "https://localhost:8080/"
        },
        "id": "cmIzmV8pHffV",
        "outputId": "683beea3-2eee-4aa2-d44a-9e1d35c538d5"
      },
      "outputs": [
        {
          "output_type": "execute_result",
          "data": {
            "text/plain": [
              "array(['Male', 'Female'], dtype=object)"
            ]
          },
          "metadata": {},
          "execution_count": 17
        }
      ],
      "source": [
        "df['Gender'].unique()"
      ]
    },
    {
      "cell_type": "markdown",
      "metadata": {
        "id": "ZGp9dHpmHzO1"
      },
      "source": [
        "Since Kmeans clustering can't traditionally handle categorical data we are going to create 2 separate clusters - one for female and one for male and visually compare them.   \n",
        "\n",
        "Let's start by finding the optimal number of clustering for data where **Gender = Female**."
      ]
    },
    {
      "cell_type": "code",
      "execution_count": null,
      "metadata": {
        "colab": {
          "base_uri": "https://localhost:8080/",
          "height": 279
        },
        "id": "ajL1c5PPHSbt",
        "outputId": "7ca91a97-6782-46d0-c377-35caa3463af2"
      },
      "outputs": [
        {
          "output_type": "display_data",
          "data": {
            "image/png": "[encoded data removed]",
            "text/plain": [
              "<Figure size 432x288 with 1 Axes>"
            ]
          },
          "metadata": {
            "needs_background": "light"
          }
        }
      ],
      "source": [
        "female = df[df['Gender'] == 'Female']\n",
        "ss=[]\n",
        "for i in range(1,11):\n",
        "  kmeans = KMeans(i)\n",
        "  kmeans.fit(female[['Age','Annual Income (k$)']])\n",
        "  ss.append(kmeans.inertia_)\n",
        "\n",
        "plt.plot(range(1,11),ss,marker='o')\n",
        "plt.xlabel('Number of Clusters')\n",
        "plt.ylabel('Inertia')\n",
        "plt.show()\n",
        "\n"
      ]
    },
    {
      "cell_type": "markdown",
      "metadata": {
        "id": "CZ33ZjSBMMYG"
      },
      "source": [
        "Let's choose our number of clusters at 4.  The inertia is pretty low and the number of clusters is low.\n",
        "\n",
        "We're going to skip to find the optimal number of clusters for our data where **Gender = Male**."
      ]
    },
    {
      "cell_type": "code",
      "execution_count": null,
      "metadata": {
        "colab": {
          "base_uri": "https://localhost:8080/",
          "height": 279
        },
        "id": "liy8637uIgmS",
        "outputId": "91149f31-b55a-46b0-b810-65387d6ec55f"
      },
      "outputs": [
        {
          "output_type": "display_data",
          "data": {
            "image/png": "[encoded data removed]",
            "text/plain": [
              "<Figure size 432x288 with 1 Axes>"
            ]
          },
          "metadata": {
            "needs_background": "light"
          }
        }
      ],
      "source": [
        "male = df[df['Gender'] == 'Male']\n",
        "ss=[]\n",
        "for i in range(1,11):\n",
        "  kmeans = KMeans(i)\n",
        "  kmeans.fit(male[['Age','Annual Income (k$)']])\n",
        "  ss.append(kmeans.inertia_)\n",
        "\n",
        "plt.plot(range(1,11),ss,marker='o')\n",
        "plt.xlabel('Number of Clusters')\n",
        "plt.ylabel('Inertia')\n",
        "plt.show()"
      ]
    },
    {
      "cell_type": "markdown",
      "metadata": {
        "id": "dPEd5KEfO02p"
      },
      "source": [
        "Again, we will choose the optimal number of clusters to be 4 for our **male** data.\n",
        "\n",
        "Now let's view both clusters for **male** and **female** side by side. "
      ]
    },
    {
      "cell_type": "code",
      "execution_count": null,
      "metadata": {
        "colab": {
          "base_uri": "https://localhost:8080/",
          "height": 573
        },
        "id": "6GzoILtBI7OI",
        "outputId": "d0076a39-fcdd-41c6-e11d-474be7f9fa2c"
      },
      "outputs": [
        {
          "output_type": "display_data",
          "data": {
            "image/png": "[encoded data removed]",
            "text/plain": [
              "<Figure size 432x288 with 1 Axes>"
            ]
          },
          "metadata": {
            "needs_background": "light"
          }
        },
        {
          "output_type": "display_data",
          "data": {
            "image/png": "[encoded data removed]",
            "text/plain": [
              "<Figure size 432x288 with 1 Axes>"
            ]
          },
          "metadata": {
            "needs_background": "light"
          }
        }
      ],
      "source": [
        "import warnings\n",
        "warnings.filterwarnings('ignore')\n",
        "\n",
        "kmeans_female = KMeans(4)\n",
        "kmeans_female.fit(female[['Age','Annual Income (k$)']])\n",
        "female['Predicted_Cluster'] = kmeans_female.fit_predict(female[['Age','Annual Income (k$)']])\n",
        "\n",
        "kmeans_male = KMeans(4)\n",
        "kmeans_male.fit(male[['Age','Annual Income (k$)']])\n",
        "male['Predicted_Cluster'] = kmeans_male.fit_predict(male[['Age','Annual Income (k$)']])\n",
        "\n",
        "f, axes = plt.subplots(1, 1)\n",
        "\n",
        "plt.scatter(female['Age'],female['Annual Income (k$)'],c=female['Predicted_Cluster'],cmap='rainbow')\n",
        "plt.xlabel('Age')\n",
        "plt.ylabel('Annual Income (k$)')\n",
        "plt.title('Clusters for Female Customers')\n",
        "\n",
        "f, axes = plt.subplots(1, 1)\n",
        "plt.scatter(male['Age'],male['Annual Income (k$)'],c=male['Predicted_Cluster'],cmap='rainbow')\n",
        "plt.xlabel('Age')\n",
        "plt.ylabel('Annual Income (k$)')\n",
        "plt.title('Clusters for Male Customers')\n",
        "\n",
        "plt.show()"
      ]
    },
    {
      "cell_type": "markdown",
      "metadata": {
        "id": "KD5pvumjQh5V"
      },
      "source": [
        "#####**Cluster Findings**\n",
        "\n",
        "\n",
        "*   There is a cluster of high paying women (>\\$100k) that is larger than the similar salary group for men.  When targeting high paying customers, the mall owner will know that it's more likely women, but the top 2 highest salary customers are male.\n",
        "*   For salary under $60k, the gap between age is stronger for males than female\n",
        "* Both female and male has the same number of clusters being optimized at 4\n",
        "\n"
      ]
    },
    {
      "cell_type": "markdown",
      "metadata": {
        "id": "v51MhRtqr_W_"
      },
      "source": [
        "\n",
        "# 2 Logistic Regression"
      ]
    },
    {
      "cell_type": "code",
      "execution_count": null,
      "metadata": {
        "id": "6quP60bndpTm"
      },
      "outputs": [],
      "source": [
        "# encodes all categorical fields to dummy variables and normalizes numerical columns\n",
        "def pipeline_model(model):\n",
        "  preprocess = ColumnTransformer(\n",
        "  transformers = [\n",
        "    ('cat', OneHotEncoder(handle_unknown=\"ignore\"), make_column_selector(dtype_include = 'object')),\n",
        "    ('num', StandardScaler(), make_column_selector(dtype_exclude = 'object'))\n",
        "    ]\n",
        "  )\n",
        "\n",
        "  pipeline = Pipeline(\n",
        "    steps = [\n",
        "      ('preprocess', preprocess),\n",
        "      ('model', model)\n",
        "    ]\n",
        "  )\n",
        "  return pipeline\n",
        "\n",
        "# changes numerical values to binary based on set threshold\n",
        "def num_to_binary(list, thresh):\n",
        "  result = []\n",
        "  for item in list:\n",
        "    if item >= thresh:\n",
        "      result.append(1)\n",
        "    else:\n",
        "      result.append(0)\n",
        "  return result"
      ]
    },
    {
      "cell_type": "markdown",
      "metadata": {
        "id": "nFS9gIIyXJpR"
      },
      "source": [
        "Since most of the data we have is numerical, we decided to try to fit a linear model through the data."
      ]
    },
    {
      "cell_type": "code",
      "execution_count": null,
      "metadata": {
        "colab": {
          "base_uri": "https://localhost:8080/"
        },
        "id": "gofawb67r_fe",
        "outputId": "9b0e5d65-0748-4ec0-8607-6c5da8fd5ecb"
      },
      "outputs": [
        {
          "output_type": "execute_result",
          "data": {
            "text/plain": [
              "0.09166444709506338"
            ]
          },
          "metadata": {},
          "execution_count": 22
        }
      ],
      "source": [
        "lm_X = df[['Gender','Age','Annual Income (k$)']]\n",
        "lm_y = df['Spending Score (1-100)']\n",
        "lm_X_train, lm_X_test, lm_y_train, lm_y_test = train_test_split(lm_X, lm_y, test_size = 0.20, random_state = 50)\n",
        "\n",
        "linear_model = pipeline_model(LinearRegression())\n",
        "\n",
        "linear_model.fit(lm_X_train, lm_y_train)\n",
        "linear_model.score(lm_X_test, lm_y_test)"
      ]
    },
    {
      "cell_type": "markdown",
      "metadata": {
        "id": "fiGdEwjqX5pD"
      },
      "source": [
        "Due to poor performance from the linear model we decided to bucket the spending score, based on the average score, and performed logistic regression"
      ]
    },
    {
      "cell_type": "code",
      "execution_count": null,
      "metadata": {
        "colab": {
          "base_uri": "https://localhost:8080/"
        },
        "id": "HEqEju5eca_i",
        "outputId": "32cb5d5f-5782-4c02-f3a3-29916a633045"
      },
      "outputs": [
        {
          "output_type": "execute_result",
          "data": {
            "text/plain": [
              "0.6"
            ]
          },
          "metadata": {},
          "execution_count": 23
        }
      ],
      "source": [
        "binary_df = df.copy()\n",
        "avg_score = binary_df['Spending Score (1-100)'].mean()\n",
        "binary_df['buy_ind'] = num_to_binary(df['Spending Score (1-100)'], avg_score)\n",
        "\n",
        "logm_X = binary_df[['Gender','Age','Annual Income (k$)']]\n",
        "logm_y = binary_df['buy_ind']\n",
        "logm_X_train, logm_X_test, logm_y_train, logm_y_test = train_test_split(logm_X, logm_y, test_size = 0.20, random_state = 50)\n",
        "\n",
        "log_model = pipeline_model(LogisticRegression())\n",
        "log_model.fit(logm_X_train, logm_y_train)\n",
        "log_model.score(logm_X_test, logm_y_test)"
      ]
    },
    {
      "cell_type": "markdown",
      "metadata": {
        "id": "zSKE4XiQYWRE"
      },
      "source": [
        "We see that logistic regression performanced significantly better than our attempt with linear regression (even with the default 0.5 threshold)"
      ]
    },
    {
      "cell_type": "code",
      "execution_count": null,
      "metadata": {
        "colab": {
          "base_uri": "https://localhost:8080/",
          "height": 238
        },
        "id": "BUiCGgNpjmAx",
        "outputId": "e500ec55-2f36-4e03-eaa3-f83430bd5ccc"
      },
      "outputs": [
        {
          "output_type": "execute_result",
          "data": {
            "text/html": [
              "<div>\n",
              "<style scoped>\n",
              "    .dataframe tbody tr th:only-of-type {\n",
              "        vertical-align: middle;\n",
              "    }\n",
              "\n",
              "    .dataframe tbody tr th {\n",
              "        vertical-align: top;\n",
              "    }\n",
              "\n",
              "    .dataframe thead th {\n",
              "        text-align: right;\n",
              "    }\n",
              "</style>\n",
              "<table border=\"1\" class=\"dataframe\">\n",
              "  <thead>\n",
              "    <tr style=\"text-align: right;\">\n",
              "      <th></th>\n",
              "      <th>buy_ind</th>\n",
              "      <th>prediction</th>\n",
              "      <th>probability</th>\n",
              "    </tr>\n",
              "    <tr>\n",
              "      <th>CustomerID</th>\n",
              "      <th></th>\n",
              "      <th></th>\n",
              "      <th></th>\n",
              "    </tr>\n",
              "  </thead>\n",
              "  <tbody>\n",
              "    <tr>\n",
              "      <th>113</th>\n",
              "      <td>0</td>\n",
              "      <td>0</td>\n",
              "      <td>0.458947</td>\n",
              "    </tr>\n",
              "    <tr>\n",
              "      <th>166</th>\n",
              "      <td>1</td>\n",
              "      <td>0</td>\n",
              "      <td>0.456492</td>\n",
              "    </tr>\n",
              "    <tr>\n",
              "      <th>13</th>\n",
              "      <td>0</td>\n",
              "      <td>0</td>\n",
              "      <td>0.301085</td>\n",
              "    </tr>\n",
              "    <tr>\n",
              "      <th>74</th>\n",
              "      <td>1</td>\n",
              "      <td>0</td>\n",
              "      <td>0.255250</td>\n",
              "    </tr>\n",
              "    <tr>\n",
              "      <th>145</th>\n",
              "      <td>0</td>\n",
              "      <td>1</td>\n",
              "      <td>0.617223</td>\n",
              "    </tr>\n",
              "  </tbody>\n",
              "</table>\n",
              "</div>"
            ],
            "text/plain": [
              "            buy_ind  prediction  probability\n",
              "CustomerID                                  \n",
              "113               0           0     0.458947\n",
              "166               1           0     0.456492\n",
              "13                0           0     0.301085\n",
              "74                1           0     0.255250\n",
              "145               0           1     0.617223"
            ]
          },
          "metadata": {},
          "execution_count": 24
        }
      ],
      "source": [
        "log_predictions = pd.DataFrame(logm_y_test)\n",
        "log_predictions['prediction'] = log_model.predict(logm_X_test)\n",
        "log_predictions['probability'] = log_model.predict_proba(logm_X_test)[:,1]\n",
        "log_predictions.head()"
      ]
    },
    {
      "cell_type": "code",
      "execution_count": null,
      "metadata": {
        "colab": {
          "base_uri": "https://localhost:8080/",
          "height": 279
        },
        "id": "Fjyqxvxwg_ES",
        "outputId": "70fba7ce-1b8f-4059-d45c-887d21df70f3"
      },
      "outputs": [
        {
          "output_type": "display_data",
          "data": {
            "image/png": "[encoded data removed]",
            "text/plain": [
              "<Figure size 432x288 with 1 Axes>"
            ]
          },
          "metadata": {
            "needs_background": "light"
          }
        }
      ],
      "source": [
        "fpr, tpr, thresholds = metrics.roc_curve(y_true = logm_y_train, y_score = log_model.predict_proba(logm_X_train)[:,1])\n",
        "auc = metrics.auc(fpr, tpr)\n",
        "roc_curve = metrics.RocCurveDisplay(fpr = fpr, tpr = tpr, roc_auc = auc)\n",
        "roc_curve.plot()\n",
        "plt.show()"
      ]
    },
    {
      "cell_type": "markdown",
      "metadata": {
        "id": "a47mrqICYhMx"
      },
      "source": [
        "We then plotted an ROC curve to see what the optimal threshold would be. Based on the curve, we see that ~0.4 is the optimal threshold for our training data"
      ]
    },
    {
      "cell_type": "code",
      "execution_count": null,
      "metadata": {
        "colab": {
          "base_uri": "https://localhost:8080/"
        },
        "id": "-B5pHQKzG4Mv",
        "outputId": "ca4235f1-c5c9-43a6-d659-4a1f48a30725"
      },
      "outputs": [
        {
          "output_type": "execute_result",
          "data": {
            "text/plain": [
              "0.725"
            ]
          },
          "metadata": {},
          "execution_count": 26
        }
      ],
      "source": [
        "log_predictions['adjusted_pred'] = num_to_binary(log_predictions['probability'], 0.40)\n",
        "metrics.accuracy_score(log_predictions['buy_ind'], log_predictions['adjusted_pred'])"
      ]
    },
    {
      "cell_type": "markdown",
      "metadata": {
        "id": "32tOnXLvYvXX"
      },
      "source": [
        "Generalizing the optimal threshold to our testing data, we were able to improve the performance of the model again. "
      ]
    },
    {
      "cell_type": "markdown",
      "metadata": {
        "id": "mHyIqcrIr_mZ"
      },
      "source": [
        "# 3 Decision Tree\n",
        "Next we will use a decision tree to predict spending score."
      ]
    },
    {
      "cell_type": "code",
      "execution_count": null,
      "metadata": {
        "id": "ZyTxHQO68NAd"
      },
      "outputs": [],
      "source": [
        "#convert catgorical variable to numerical\n",
        "df_dt = df.copy()\n",
        "df_dt['Gender'].replace({'Male':0, 'Female':1}, inplace=True)"
      ]
    },
    {
      "cell_type": "code",
      "execution_count": null,
      "metadata": {
        "colab": {
          "base_uri": "https://localhost:8080/",
          "height": 238
        },
        "id": "QyHqzMrmWRU4",
        "outputId": "1b1e8249-086c-45d5-8439-a9db474d6e49"
      },
      "outputs": [
        {
          "output_type": "execute_result",
          "data": {
            "text/html": [
              "<div>\n",
              "<style scoped>\n",
              "    .dataframe tbody tr th:only-of-type {\n",
              "        vertical-align: middle;\n",
              "    }\n",
              "\n",
              "    .dataframe tbody tr th {\n",
              "        vertical-align: top;\n",
              "    }\n",
              "\n",
              "    .dataframe thead th {\n",
              "        text-align: right;\n",
              "    }\n",
              "</style>\n",
              "<table border=\"1\" class=\"dataframe\">\n",
              "  <thead>\n",
              "    <tr style=\"text-align: right;\">\n",
              "      <th></th>\n",
              "      <th>Gender</th>\n",
              "      <th>Age</th>\n",
              "      <th>Annual Income (k$)</th>\n",
              "      <th>Spending Score (1-100)</th>\n",
              "      <th>Predicted_Cluster</th>\n",
              "    </tr>\n",
              "    <tr>\n",
              "      <th>CustomerID</th>\n",
              "      <th></th>\n",
              "      <th></th>\n",
              "      <th></th>\n",
              "      <th></th>\n",
              "      <th></th>\n",
              "    </tr>\n",
              "  </thead>\n",
              "  <tbody>\n",
              "    <tr>\n",
              "      <th>1</th>\n",
              "      <td>0</td>\n",
              "      <td>19</td>\n",
              "      <td>15</td>\n",
              "      <td>39</td>\n",
              "      <td>1</td>\n",
              "    </tr>\n",
              "    <tr>\n",
              "      <th>2</th>\n",
              "      <td>0</td>\n",
              "      <td>21</td>\n",
              "      <td>15</td>\n",
              "      <td>81</td>\n",
              "      <td>1</td>\n",
              "    </tr>\n",
              "    <tr>\n",
              "      <th>3</th>\n",
              "      <td>1</td>\n",
              "      <td>20</td>\n",
              "      <td>16</td>\n",
              "      <td>6</td>\n",
              "      <td>1</td>\n",
              "    </tr>\n",
              "    <tr>\n",
              "      <th>4</th>\n",
              "      <td>1</td>\n",
              "      <td>23</td>\n",
              "      <td>16</td>\n",
              "      <td>77</td>\n",
              "      <td>1</td>\n",
              "    </tr>\n",
              "    <tr>\n",
              "      <th>5</th>\n",
              "      <td>1</td>\n",
              "      <td>31</td>\n",
              "      <td>17</td>\n",
              "      <td>40</td>\n",
              "      <td>1</td>\n",
              "    </tr>\n",
              "  </tbody>\n",
              "</table>\n",
              "</div>"
            ],
            "text/plain": [
              "            Gender  Age  ...  Spending Score (1-100)  Predicted_Cluster\n",
              "CustomerID               ...                                           \n",
              "1                0   19  ...                      39                  1\n",
              "2                0   21  ...                      81                  1\n",
              "3                1   20  ...                       6                  1\n",
              "4                1   23  ...                      77                  1\n",
              "5                1   31  ...                      40                  1\n",
              "\n",
              "[5 rows x 5 columns]"
            ]
          },
          "metadata": {},
          "execution_count": 28
        }
      ],
      "source": [
        "df_dt.head()"
      ]
    },
    {
      "cell_type": "markdown",
      "metadata": {
        "id": "qSrU3BxaR0WO"
      },
      "source": [
        "Initially we tried leaving spending score as it is as values 0-100. However, the performance was very bad so we converted it to a binary variable with 0 as 0-50 and 1 as 51-100."
      ]
    },
    {
      "cell_type": "code",
      "execution_count": null,
      "metadata": {
        "colab": {
          "base_uri": "https://localhost:8080/",
          "height": 238
        },
        "id": "PRCKxtRwFOB5",
        "outputId": "1f76e0d6-9378-4656-87fd-569a643b8c95"
      },
      "outputs": [
        {
          "output_type": "execute_result",
          "data": {
            "text/html": [
              "<div>\n",
              "<style scoped>\n",
              "    .dataframe tbody tr th:only-of-type {\n",
              "        vertical-align: middle;\n",
              "    }\n",
              "\n",
              "    .dataframe tbody tr th {\n",
              "        vertical-align: top;\n",
              "    }\n",
              "\n",
              "    .dataframe thead th {\n",
              "        text-align: right;\n",
              "    }\n",
              "</style>\n",
              "<table border=\"1\" class=\"dataframe\">\n",
              "  <thead>\n",
              "    <tr style=\"text-align: right;\">\n",
              "      <th></th>\n",
              "      <th>Gender</th>\n",
              "      <th>Age</th>\n",
              "      <th>Annual Income (k$)</th>\n",
              "      <th>Spending Score (1-100)</th>\n",
              "      <th>Predicted_Cluster</th>\n",
              "      <th>spending score binary</th>\n",
              "    </tr>\n",
              "    <tr>\n",
              "      <th>CustomerID</th>\n",
              "      <th></th>\n",
              "      <th></th>\n",
              "      <th></th>\n",
              "      <th></th>\n",
              "      <th></th>\n",
              "      <th></th>\n",
              "    </tr>\n",
              "  </thead>\n",
              "  <tbody>\n",
              "    <tr>\n",
              "      <th>1</th>\n",
              "      <td>0</td>\n",
              "      <td>19</td>\n",
              "      <td>15</td>\n",
              "      <td>39</td>\n",
              "      <td>1</td>\n",
              "      <td>0</td>\n",
              "    </tr>\n",
              "    <tr>\n",
              "      <th>2</th>\n",
              "      <td>0</td>\n",
              "      <td>21</td>\n",
              "      <td>15</td>\n",
              "      <td>81</td>\n",
              "      <td>1</td>\n",
              "      <td>1</td>\n",
              "    </tr>\n",
              "    <tr>\n",
              "      <th>3</th>\n",
              "      <td>1</td>\n",
              "      <td>20</td>\n",
              "      <td>16</td>\n",
              "      <td>6</td>\n",
              "      <td>1</td>\n",
              "      <td>0</td>\n",
              "    </tr>\n",
              "    <tr>\n",
              "      <th>4</th>\n",
              "      <td>1</td>\n",
              "      <td>23</td>\n",
              "      <td>16</td>\n",
              "      <td>77</td>\n",
              "      <td>1</td>\n",
              "      <td>1</td>\n",
              "    </tr>\n",
              "    <tr>\n",
              "      <th>5</th>\n",
              "      <td>1</td>\n",
              "      <td>31</td>\n",
              "      <td>17</td>\n",
              "      <td>40</td>\n",
              "      <td>1</td>\n",
              "      <td>0</td>\n",
              "    </tr>\n",
              "  </tbody>\n",
              "</table>\n",
              "</div>"
            ],
            "text/plain": [
              "            Gender  Age  ...  Predicted_Cluster  spending score binary\n",
              "CustomerID               ...                                          \n",
              "1                0   19  ...                  1                      0\n",
              "2                0   21  ...                  1                      1\n",
              "3                1   20  ...                  1                      0\n",
              "4                1   23  ...                  1                      1\n",
              "5                1   31  ...                  1                      0\n",
              "\n",
              "[5 rows x 6 columns]"
            ]
          },
          "metadata": {},
          "execution_count": 29
        }
      ],
      "source": [
        "def conditions(x):\n",
        "    if x <= 50:\n",
        "        return 0\n",
        "    else:\n",
        "        return 1\n",
        "\n",
        "func = np.vectorize(conditions)\n",
        "Score_Group= func(df_dt[\"Spending Score (1-100)\"])\n",
        "\n",
        "df_dt[\"spending score binary\"] = Score_Group\n",
        "df_dt.head()"
      ]
    },
    {
      "cell_type": "markdown",
      "metadata": {
        "id": "eMmN1VeOSHVM"
      },
      "source": [
        "Let's see how the model performs with default parameters."
      ]
    },
    {
      "cell_type": "code",
      "execution_count": null,
      "metadata": {
        "id": "96yVfdp8r_sU"
      },
      "outputs": [],
      "source": [
        "X = df_dt.drop(columns=['Spending Score (1-100)', 'spending score binary'], axis=1)\n",
        "y = df_dt['spending score binary']\n",
        "\n",
        "X_train,X_test,y_train,y_test = train_test_split(X,y,test_size=0.20,random_state=123)"
      ]
    },
    {
      "cell_type": "code",
      "execution_count": null,
      "metadata": {
        "colab": {
          "base_uri": "https://localhost:8080/"
        },
        "id": "izf0G6cx7vNM",
        "outputId": "b0d369b0-d7d1-470b-9a3d-a18998577d7b"
      },
      "outputs": [
        {
          "output_type": "stream",
          "name": "stdout",
          "text": [
            "Accuracy: 0.6\n"
          ]
        }
      ],
      "source": [
        "#start with default parameters\n",
        "clf_default = DecisionTreeClassifier(random_state=11)\n",
        "clf_default.fit(X_train,y_train)\n",
        "\n",
        "# make predictions\n",
        "y_pred_default = clf_default.predict(X_test)\n",
        "\n",
        "\n",
        "print(\"Accuracy:\",metrics.accuracy_score(y_test, y_pred_default))"
      ]
    },
    {
      "cell_type": "code",
      "execution_count": null,
      "metadata": {
        "colab": {
          "base_uri": "https://localhost:8080/"
        },
        "id": "tVVXxKojW-se",
        "outputId": "4fd04e70-154b-4281-bd9f-38d6ee29567f"
      },
      "outputs": [
        {
          "output_type": "stream",
          "name": "stdout",
          "text": [
            "[[13  9]\n",
            " [ 7 11]]\n",
            "              precision    recall  f1-score   support\n",
            "\n",
            "           0       0.65      0.59      0.62        22\n",
            "           1       0.55      0.61      0.58        18\n",
            "\n",
            "    accuracy                           0.60        40\n",
            "   macro avg       0.60      0.60      0.60        40\n",
            "weighted avg       0.61      0.60      0.60        40\n",
            "\n"
          ]
        }
      ],
      "source": [
        "print(confusion_matrix(y_test, y_pred_default))\n",
        "print(classification_report(y_test, y_pred_default))"
      ]
    },
    {
      "cell_type": "markdown",
      "metadata": {
        "id": "dMo9Su26SPyP"
      },
      "source": [
        "We achieve an accuracy of 60% with default parameters. Next let's try improving our baseline model by finding optimal parameter values."
      ]
    },
    {
      "cell_type": "code",
      "execution_count": null,
      "metadata": {
        "colab": {
          "base_uri": "https://localhost:8080/",
          "height": 295
        },
        "id": "uGb0tDP0OYBf",
        "outputId": "7c1cacd7-2f63-47e6-d093-cd237a86471d"
      },
      "outputs": [
        {
          "output_type": "display_data",
          "data": {
            "image/png": "[encoded data removed]",
            "text/plain": [
              "<Figure size 432x288 with 1 Axes>"
            ]
          },
          "metadata": {
            "needs_background": "light"
          }
        }
      ],
      "source": [
        "max_depths = np.linspace(1, 30, 30, endpoint=True)\n",
        "train_results = []\n",
        "test_results = []\n",
        "for max_depth in max_depths:\n",
        "   dt = DecisionTreeClassifier(max_depth=max_depth)\n",
        "   dt.fit(X_train, y_train)\n",
        "   train_pred = dt.predict(X_train)\n",
        "   train_accuracy = metrics.accuracy_score(y_train, train_pred)\n",
        "   train_results.append(train_accuracy)\n",
        "   y_pred = dt.predict(X_test)\n",
        "   test_accuracy = metrics.accuracy_score(y_test, y_pred)\n",
        "   test_results.append(test_accuracy)\n",
        "\n",
        "line1 = plt.plot(max_depths, train_results, label=\"train\")\n",
        "line2 = plt.plot(max_depths, test_results, label = \"test\")\n",
        "\n",
        "plt.title(\"Optimal Max depth\")\n",
        "plt.xlabel(\"Max depth\")\n",
        "plt.ylabel(\"Accuracy\")\n",
        "\n",
        "plt.legend()\n",
        "plt.show()\n"
      ]
    },
    {
      "cell_type": "markdown",
      "source": [
        "Based on the plots above, we see that the model overfits for large depth values. The optimal parameter values appear to be max_depth = 9, min_samples_split = 0.3, min_samples_leaf = 0.1. In our final model we achieve an accuracy of 70% with 12 observations predicted incorrectly."
      ],
      "metadata": {
        "id": "DBDa51-xV9mi"
      }
    },
    {
      "cell_type": "code",
      "execution_count": null,
      "metadata": {
        "colab": {
          "base_uri": "https://localhost:8080/",
          "height": 295
        },
        "id": "_RZZAWU1KN-5",
        "outputId": "0045728e-97b2-4b52-bb3e-af5d92efc4e6"
      },
      "outputs": [
        {
          "output_type": "display_data",
          "data": {
            "image/png": "[encoded data removed]",
            "text/plain": [
              "<Figure size 432x288 with 1 Axes>"
            ]
          },
          "metadata": {
            "needs_background": "light"
          }
        }
      ],
      "source": [
        "min_samples_splits = np.linspace(0.1, 1.0, 10, endpoint=True)\n",
        "train_results = []\n",
        "test_results = []\n",
        "for min_samples_split in min_samples_splits:\n",
        "   dt = DecisionTreeClassifier(min_samples_split=min_samples_split)\n",
        "   dt.fit(X_train, y_train)\n",
        "   train_pred = dt.predict(X_train)\n",
        "   train_accuracy = metrics.accuracy_score(y_train, train_pred)\n",
        "   train_results.append(train_accuracy)\n",
        "   y_pred = dt.predict(X_test)\n",
        "   test_accuracy = metrics.accuracy_score(y_test, y_pred)\n",
        "   test_results.append(test_accuracy)\n",
        "\n",
        "line1 = plt.plot(min_samples_splits, train_results, label=\"train\")\n",
        "line2 = plt.plot(min_samples_splits, test_results, label = \"test\")\n",
        "\n",
        "plt.title(\"Optimal Min samples split\")\n",
        "plt.xlabel(\"Min samples split\")\n",
        "plt.ylabel(\"Accuracy\")\n",
        "\n",
        "plt.legend()\n",
        "plt.show()"
      ]
    },
    {
      "cell_type": "code",
      "execution_count": null,
      "metadata": {
        "colab": {
          "base_uri": "https://localhost:8080/",
          "height": 295
        },
        "id": "O5QzhxG7JgAs",
        "outputId": "5f63f774-47db-4cab-e7a5-f44621fb56b7"
      },
      "outputs": [
        {
          "output_type": "display_data",
          "data": {
            "image/png": "[encoded data removed]",
            "text/plain": [
              "<Figure size 432x288 with 1 Axes>"
            ]
          },
          "metadata": {
            "needs_background": "light"
          }
        }
      ],
      "source": [
        "min_samples_leafs = np.linspace(0.1, 0.5, 5, endpoint=True)\n",
        "train_results = []\n",
        "test_results = []\n",
        "for min_samples_leaf in min_samples_leafs:\n",
        "   dt = DecisionTreeClassifier(min_samples_leaf=min_samples_leaf)\n",
        "   dt.fit(X_train, y_train)\n",
        "   train_pred = dt.predict(X_train)\n",
        "   train_accuracy = metrics.accuracy_score(y_train, train_pred)\n",
        "   train_results.append(train_accuracy)\n",
        "   y_pred = dt.predict(X_test)\n",
        "   test_accuracy = metrics.accuracy_score(y_test, y_pred)\n",
        "   test_results.append(test_accuracy)\n",
        "\n",
        "line1 = plt.plot(min_samples_leafs, train_results, label=\"train\")\n",
        "line2 = plt.plot(min_samples_leafs, test_results, label = \"test\")\n",
        "\n",
        "plt.title(\"Optimal Min samples leaf\")\n",
        "plt.xlabel(\"Min samples leaf\")\n",
        "plt.ylabel(\"Accuracy\")\n",
        "\n",
        "plt.legend()\n",
        "plt.show()\n"
      ]
    },
    {
      "cell_type": "markdown",
      "metadata": {
        "id": "l8T2LC7DUQj1"
      },
      "source": [
        "In our final decision tree we will use max_depth = 9, min_samples_split = 0.3, min_samples_leaf = 0.1. We achieve an accuracy of 70% with 12 observations predicted incorrectly."
      ]
    },
    {
      "cell_type": "code",
      "execution_count": null,
      "metadata": {
        "colab": {
          "base_uri": "https://localhost:8080/"
        },
        "id": "gkQ5lMw1T9f-",
        "outputId": "80cfcfd5-2f95-4f08-94e8-eec79da96d46"
      },
      "outputs": [
        {
          "output_type": "stream",
          "name": "stdout",
          "text": [
            "Accuracy: 0.7\n"
          ]
        }
      ],
      "source": [
        "clf_final = DecisionTreeClassifier(max_depth = 9, min_samples_split = 0.3, min_samples_leaf = 0.1, random_state=12)\n",
        "clf_final.fit(X_train,y_train)\n",
        "\n",
        "# make predictions\n",
        "y_pred = clf_final.predict(X_test)\n",
        "\n",
        "print(\"Accuracy:\",metrics.accuracy_score(y_test, y_pred))"
      ]
    },
    {
      "cell_type": "code",
      "execution_count": null,
      "metadata": {
        "colab": {
          "base_uri": "https://localhost:8080/"
        },
        "id": "pFAVaBJRVYEd",
        "outputId": "f42821e7-0b05-4b13-cdac-d8ea29738672"
      },
      "outputs": [
        {
          "output_type": "stream",
          "name": "stdout",
          "text": [
            "[[15  7]\n",
            " [ 5 13]]\n",
            "              precision    recall  f1-score   support\n",
            "\n",
            "           0       0.75      0.68      0.71        22\n",
            "           1       0.65      0.72      0.68        18\n",
            "\n",
            "    accuracy                           0.70        40\n",
            "   macro avg       0.70      0.70      0.70        40\n",
            "weighted avg       0.71      0.70      0.70        40\n",
            "\n"
          ]
        }
      ],
      "source": [
        "print(confusion_matrix(y_test, y_pred))\n",
        "print(classification_report(y_test, y_pred))"
      ]
    },
    {
      "cell_type": "code",
      "execution_count": null,
      "metadata": {
        "colab": {
          "base_uri": "https://localhost:8080/",
          "height": 466
        },
        "id": "RpzXGWWbX4HF",
        "outputId": "1d83b142-32ba-49ae-dc74-ca83192e845d"
      },
      "outputs": [
        {
          "output_type": "display_data",
          "data": {
            "image/png": "[encoded data removed]",
            "text/plain": [
              "<Figure size 720x576 with 1 Axes>"
            ]
          },
          "metadata": {
            "needs_background": "light"
          }
        }
      ],
      "source": [
        "from sklearn import tree\n",
        "fig = plt.figure(figsize=(10,8))\n",
        "_ = tree.plot_tree(clf_final, \n",
        "                   feature_names = X_train.columns.to_list(),\n",
        "                   filled=True)"
      ]
    },
    {
      "cell_type": "markdown",
      "source": [
        "In our decision tree Age appeared to be the most important feature as it is used in the root node and following two nodes in the 2nd layer. We end up with six leaf nodes:  \n",
        "1. Age <= 20.5\n",
        "2. Age > 20.5"
      ],
      "metadata": {
        "id": "zcNdmD9TiDtP"
      }
    },
    {
      "cell_type": "markdown",
      "metadata": {
        "id": "bLi8abAQgGW0"
      },
      "source": [
        "# 4 Extreme Gradient Boosting (XGBoost)\n",
        "First we are going to start by separating out the predictor variables (x) from the target variable (y).\n"
      ]
    },
    {
      "cell_type": "code",
      "execution_count": null,
      "metadata": {
        "colab": {
          "base_uri": "https://localhost:8080/",
          "height": 238
        },
        "id": "-3odOdi4r-7d",
        "outputId": "c8f95c03-3a16-4571-dcb5-0c7558556b53"
      },
      "outputs": [
        {
          "output_type": "execute_result",
          "data": {
            "text/html": [
              "<div>\n",
              "<style scoped>\n",
              "    .dataframe tbody tr th:only-of-type {\n",
              "        vertical-align: middle;\n",
              "    }\n",
              "\n",
              "    .dataframe tbody tr th {\n",
              "        vertical-align: top;\n",
              "    }\n",
              "\n",
              "    .dataframe thead th {\n",
              "        text-align: right;\n",
              "    }\n",
              "</style>\n",
              "<table border=\"1\" class=\"dataframe\">\n",
              "  <thead>\n",
              "    <tr style=\"text-align: right;\">\n",
              "      <th></th>\n",
              "      <th>Gender</th>\n",
              "      <th>Age</th>\n",
              "      <th>Annual Income (k$)</th>\n",
              "    </tr>\n",
              "    <tr>\n",
              "      <th>CustomerID</th>\n",
              "      <th></th>\n",
              "      <th></th>\n",
              "      <th></th>\n",
              "    </tr>\n",
              "  </thead>\n",
              "  <tbody>\n",
              "    <tr>\n",
              "      <th>1</th>\n",
              "      <td>Male</td>\n",
              "      <td>19</td>\n",
              "      <td>15</td>\n",
              "    </tr>\n",
              "    <tr>\n",
              "      <th>2</th>\n",
              "      <td>Male</td>\n",
              "      <td>21</td>\n",
              "      <td>15</td>\n",
              "    </tr>\n",
              "    <tr>\n",
              "      <th>3</th>\n",
              "      <td>Female</td>\n",
              "      <td>20</td>\n",
              "      <td>16</td>\n",
              "    </tr>\n",
              "    <tr>\n",
              "      <th>4</th>\n",
              "      <td>Female</td>\n",
              "      <td>23</td>\n",
              "      <td>16</td>\n",
              "    </tr>\n",
              "    <tr>\n",
              "      <th>5</th>\n",
              "      <td>Female</td>\n",
              "      <td>31</td>\n",
              "      <td>17</td>\n",
              "    </tr>\n",
              "  </tbody>\n",
              "</table>\n",
              "</div>"
            ],
            "text/plain": [
              "            Gender  Age  Annual Income (k$)\n",
              "CustomerID                                 \n",
              "1             Male   19                  15\n",
              "2             Male   21                  15\n",
              "3           Female   20                  16\n",
              "4           Female   23                  16\n",
              "5           Female   31                  17"
            ]
          },
          "metadata": {},
          "execution_count": 65
        }
      ],
      "source": [
        "X = df.iloc[:, :-2]\n",
        "X"
      ]
    },
    {
      "cell_type": "code",
      "execution_count": null,
      "metadata": {
        "colab": {
          "base_uri": "https://localhost:8080/",
          "height": 238
        },
        "id": "Uez4JKnGB3us",
        "outputId": "e27d0c1d-bc50-4cc5-a65a-0108db2f51c8"
      },
      "outputs": [
        {
          "output_type": "execute_result",
          "data": {
            "text/html": [
              "<div>\n",
              "<style scoped>\n",
              "    .dataframe tbody tr th:only-of-type {\n",
              "        vertical-align: middle;\n",
              "    }\n",
              "\n",
              "    .dataframe tbody tr th {\n",
              "        vertical-align: top;\n",
              "    }\n",
              "\n",
              "    .dataframe thead th {\n",
              "        text-align: right;\n",
              "    }\n",
              "</style>\n",
              "<table border=\"1\" class=\"dataframe\">\n",
              "  <thead>\n",
              "    <tr style=\"text-align: right;\">\n",
              "      <th></th>\n",
              "      <th>Spending Score (1-100)</th>\n",
              "    </tr>\n",
              "    <tr>\n",
              "      <th>CustomerID</th>\n",
              "      <th></th>\n",
              "    </tr>\n",
              "  </thead>\n",
              "  <tbody>\n",
              "    <tr>\n",
              "      <th>1</th>\n",
              "      <td>39</td>\n",
              "    </tr>\n",
              "    <tr>\n",
              "      <th>2</th>\n",
              "      <td>81</td>\n",
              "    </tr>\n",
              "    <tr>\n",
              "      <th>3</th>\n",
              "      <td>6</td>\n",
              "    </tr>\n",
              "    <tr>\n",
              "      <th>4</th>\n",
              "      <td>77</td>\n",
              "    </tr>\n",
              "    <tr>\n",
              "      <th>5</th>\n",
              "      <td>40</td>\n",
              "    </tr>\n",
              "  </tbody>\n",
              "</table>\n",
              "</div>"
            ],
            "text/plain": [
              "            Spending Score (1-100)\n",
              "CustomerID                        \n",
              "1                               39\n",
              "2                               81\n",
              "3                                6\n",
              "4                               77\n",
              "5                               40"
            ]
          },
          "metadata": {},
          "execution_count": 68
        }
      ],
      "source": [
        "y = df.iloc[: , -2:-1]\n",
        "y.head(5)"
      ]
    },
    {
      "cell_type": "code",
      "execution_count": null,
      "metadata": {
        "colab": {
          "base_uri": "https://localhost:8080/"
        },
        "id": "KbVmZemja4Gi",
        "outputId": "c6cc56d8-d993-4bd0-acf8-68bbcf16c7e0"
      },
      "outputs": [
        {
          "output_type": "execute_result",
          "data": {
            "text/plain": [
              "Spending Score (1-100)\n",
              "42                        8\n",
              "55                        7\n",
              "46                        6\n",
              "73                        6\n",
              "35                        5\n",
              "dtype: int64"
            ]
          },
          "metadata": {},
          "execution_count": 67
        }
      ],
      "source": [
        "y.value_counts().head(5)"
      ]
    },
    {
      "cell_type": "markdown",
      "metadata": {
        "id": "S1oISb94LaZD"
      },
      "source": [
        "We initialized an instance of the XGBRegressor class. Then we selected the value of Lambda and Gamma as well as the number of estimators and maximum tree depth."
      ]
    },
    {
      "cell_type": "markdown",
      "metadata": {
        "id": "o8iaQj_M3nY8"
      },
      "source": [
        "We leveraged OneHot encoding to turn Categorical variables into Numeric variables by converting the string class values to integer values\n",
        ":"
      ]
    },
    {
      "cell_type": "code",
      "execution_count": null,
      "metadata": {
        "id": "jIJQjk0iLZbY"
      },
      "outputs": [],
      "source": [
        "xgb_regressor = xgb.XGBRegressor(\n",
        "    n_estimators=100,\n",
        "    reg_lambda=1,\n",
        "    gamma=0,\n",
        "    max_depth=3\n",
        ")\n",
        "\n",
        "\n",
        "xgb_model = pipeline_model(xgb_regressor)"
      ]
    },
    {
      "cell_type": "markdown",
      "metadata": {
        "id": "aYqr5JU-6Rn2"
      },
      "source": [
        "We then split the data into training and test sets with a 80/20 split."
      ]
    },
    {
      "cell_type": "code",
      "execution_count": null,
      "metadata": {
        "id": "464DnsTC3rEx"
      },
      "outputs": [],
      "source": [
        "X_train, X_test, y_train, y_test = train_test_split(X, y, test_size = 0.20, random_state = 51)\n"
      ]
    },
    {
      "cell_type": "markdown",
      "metadata": {
        "id": "tnVf1YQVol9K"
      },
      "source": [
        "#### **Fitting the XGBoost Model**\n",
        "Now we are going to fit the XGBoost model."
      ]
    },
    {
      "cell_type": "code",
      "execution_count": null,
      "metadata": {
        "colab": {
          "base_uri": "https://localhost:8080/"
        },
        "id": "yJJXlGaWLtiG",
        "outputId": "6f4251d6-77e7-4b74-86b5-91485276525b"
      },
      "outputs": [
        {
          "output_type": "stream",
          "name": "stdout",
          "text": [
            "[22:47:05] WARNING: /workspace/src/objective/regression_obj.cu:152: reg:linear is now deprecated in favor of reg:squarederror.\n"
          ]
        },
        {
          "output_type": "execute_result",
          "data": {
            "text/plain": [
              "Pipeline(steps=[('preprocess',\n",
              "                 ColumnTransformer(transformers=[('cat',\n",
              "                                                  OneHotEncoder(handle_unknown='ignore'),\n",
              "                                                  <sklearn.compose._column_transformer.make_column_selector object at 0x7fc239b26490>),\n",
              "                                                 ('num', StandardScaler(),\n",
              "                                                  <sklearn.compose._column_transformer.make_column_selector object at 0x7fc239b26ed0>)])),\n",
              "                ('model', XGBRegressor())])"
            ]
          },
          "metadata": {},
          "execution_count": 44
        }
      ],
      "source": [
        "xgb_model.fit(X_train, y_train)"
      ]
    },
    {
      "cell_type": "markdown",
      "metadata": {
        "id": "Jc45dkRooqp5"
      },
      "source": [
        "Now we will use the test set to predict"
      ]
    },
    {
      "cell_type": "code",
      "execution_count": null,
      "metadata": {
        "id": "2npGfKdQ6c_j"
      },
      "outputs": [],
      "source": [
        "y_pred = xgb_model.predict(X_test)"
      ]
    },
    {
      "cell_type": "markdown",
      "metadata": {
        "id": "4IbC-ceyk1Bt"
      },
      "source": [
        "Finding the accuracy, or the $R^{2}$ regression score, using the test set\n",
        "\n",
        "---\n",
        "\n",
        "\n",
        "$R^{2}$ is the coefficient of determination.\n",
        "\n"
      ]
    },
    {
      "cell_type": "code",
      "execution_count": null,
      "metadata": {
        "colab": {
          "base_uri": "https://localhost:8080/"
        },
        "id": "cR_uYNIrkvhq",
        "outputId": "306f9bde-0c73-43f3-bbaa-86e5f6b82ceb"
      },
      "outputs": [
        {
          "output_type": "execute_result",
          "data": {
            "text/plain": [
              "0.1967696207455586"
            ]
          },
          "metadata": {},
          "execution_count": 46
        }
      ],
      "source": [
        " xgb_model.score(X_test, y_test)\n",
        " "
      ]
    },
    {
      "cell_type": "markdown",
      "metadata": {
        "id": "LRmv6aJlnf7z"
      },
      "source": [
        "XGBoost has an accuracy of 19.68%\n",
        "\n"
      ]
    },
    {
      "cell_type": "code",
      "execution_count": null,
      "metadata": {
        "colab": {
          "base_uri": "https://localhost:8080/"
        },
        "id": "eehf9L45mcNj",
        "outputId": "c6dd7545-c975-41ec-dae3-63b872871af7"
      },
      "outputs": [
        {
          "output_type": "execute_result",
          "data": {
            "text/plain": [
              "0.09166444709506338"
            ]
          },
          "metadata": {},
          "execution_count": 47
        }
      ],
      "source": [
        "linear_model.score(lm_X_test, lm_y_test)"
      ]
    },
    {
      "cell_type": "markdown",
      "metadata": {
        "id": "Td28Sy7DnlUO"
      },
      "source": [
        "Linear Regression has an accuracy lower than 10%"
      ]
    },
    {
      "cell_type": "markdown",
      "metadata": {
        "id": "jTwrZfLTmsF9"
      },
      "source": [
        "As we can tell, due to the lack of important features in the dataset, there is no way for us to achieve an extremly high accuracy like in the 95% range. As illustrated above, the accuracy for XGBoost is merely 19.68%, which is already significantly higher than the Linear Regression Model at 9.17%. The only way we can optimize the model further is by evaluting the the performance via some more traditional metrics like Mean Squared Error (MSE) and Root Mean Squared Error (RMSE). The goal is to get the model with the lowest combination of MAPE, MSE ,and RMSE."
      ]
    },
    {
      "cell_type": "markdown",
      "metadata": {
        "id": "47JOkeBd_Xvb"
      },
      "source": [
        "### Performance Metrics a: Mean Squared Error (MSE)"
      ]
    },
    {
      "cell_type": "code",
      "execution_count": null,
      "metadata": {
        "colab": {
          "base_uri": "https://localhost:8080/"
        },
        "id": "So1g584o5kCM",
        "outputId": "641637a0-7d7a-4d3f-dde8-944bccd3f87c"
      },
      "outputs": [
        {
          "output_type": "execute_result",
          "data": {
            "text/plain": [
              "431.45469619753624"
            ]
          },
          "metadata": {},
          "execution_count": 48
        }
      ],
      "source": [
        "xgb_mse = mean_squared_error(y_test, y_pred)\n",
        "xgb_mse"
      ]
    },
    {
      "cell_type": "code",
      "execution_count": null,
      "metadata": {
        "id": "SHw_7osx7hPD"
      },
      "outputs": [],
      "source": [
        "# y_pred_lm = linear_model.predict(lm_X_test)\n",
        "# mean_squared_error(y_pred_lm, lm_y_test)"
      ]
    },
    {
      "cell_type": "markdown",
      "metadata": {
        "id": "065K4LoM9eYF"
      },
      "source": [
        "### Performance Metrics b: Root Mean Squared Error (RMSE)\n",
        "\n"
      ]
    },
    {
      "cell_type": "code",
      "execution_count": null,
      "metadata": {
        "colab": {
          "base_uri": "https://localhost:8080/"
        },
        "id": "VXKFAlSW9c-c",
        "outputId": "0dab7bcd-157b-49d6-f3ee-12badad2f7f4"
      },
      "outputs": [
        {
          "output_type": "execute_result",
          "data": {
            "text/plain": [
              "20.771487577868278"
            ]
          },
          "metadata": {},
          "execution_count": 50
        }
      ],
      "source": [
        "xgb_rmse = mean_squared_error(y_test, y_pred, squared=False)\n",
        "xgb_rmse"
      ]
    },
    {
      "cell_type": "markdown",
      "metadata": {
        "id": "v2KghWu-pyJS"
      },
      "source": [
        "## Performance Metrics c: Mean Absolute Percentage Error (MAPE)"
      ]
    },
    {
      "cell_type": "code",
      "execution_count": null,
      "metadata": {
        "colab": {
          "base_uri": "https://localhost:8080/"
        },
        "id": "ehqn18eXqALB",
        "outputId": "1b7c2cf6-727e-4d9e-bcc5-9d78194272e8"
      },
      "outputs": [
        {
          "output_type": "execute_result",
          "data": {
            "text/plain": [
              "0.6716931852372368"
            ]
          },
          "metadata": {},
          "execution_count": 51
        }
      ],
      "source": [
        "xgb_mape =  mean_absolute_percentage_error(y_test, y_pred)\n",
        "xgb_mape"
      ]
    },
    {
      "cell_type": "code",
      "execution_count": null,
      "metadata": {
        "id": "JtvEXTiM_vGy"
      },
      "outputs": [],
      "source": [
        "# mean_squared_error(y_pred_lm, lm_y_test, squared=False)"
      ]
    },
    {
      "cell_type": "code",
      "execution_count": null,
      "metadata": {
        "colab": {
          "base_uri": "https://localhost:8080/"
        },
        "id": "alZFa1zKsj8S",
        "outputId": "f270c57d-0e52-4107-f926-1fb2278a99d9"
      },
      "outputs": [
        {
          "output_type": "execute_result",
          "data": {
            "text/plain": [
              "0.1967696207455586"
            ]
          },
          "metadata": {},
          "execution_count": 53
        }
      ],
      "source": [
        "# the same as .score function \n",
        "r2_score(y_test, y_pred)"
      ]
    },
    {
      "cell_type": "markdown",
      "metadata": {
        "id": "aVw5TIaes3Rk"
      },
      "source": [
        "#**Model Comparison**\n",
        "Now we will compare our models to see which performed best."
      ]
    },
    {
      "cell_type": "markdown",
      "metadata": {
        "id": "TtdR8GCdB5GZ"
      },
      "source": [
        "## Linear Regression"
      ]
    },
    {
      "cell_type": "code",
      "execution_count": null,
      "metadata": {
        "id": "8eQnv2vCs3wW"
      },
      "outputs": [],
      "source": [
        "y_pred_lm = linear_model.predict(lm_X_test)\n",
        "lin_reg_mse = mean_squared_error(y_pred_lm, lm_y_test)\n",
        "lin_reg_rmse = mean_squared_error(y_pred_lm, lm_y_test, squared=False)\n",
        "lin_reg_mape = mean_absolute_percentage_error(y_pred_lm, lm_y_test)"
      ]
    },
    {
      "cell_type": "markdown",
      "metadata": {
        "id": "IKBerFWkB7mx"
      },
      "source": [
        "<!-- ## Logistic Regression -->"
      ]
    },
    {
      "cell_type": "code",
      "execution_count": null,
      "metadata": {
        "id": "b5fAJ0QWB_dM"
      },
      "outputs": [],
      "source": [
        "# saved for Logistic Regression (don't remove)\n",
        "# y_pred_logm = linear_model.predict(logm_X_test)\n",
        "# log_reg_mse = mean_squared_error(y_pred_logm, logm_y_test)\n",
        "# log_reg_rmse = mean_squared_error(y_pred_logm, logm_y_test, squared=False)"
      ]
    },
    {
      "cell_type": "code",
      "execution_count": null,
      "metadata": {
        "colab": {
          "base_uri": "https://localhost:8080/",
          "height": 143
        },
        "id": "FouNhcNXCe0r",
        "outputId": "40d642ed-945e-43d0-b8c9-0349338253c1"
      },
      "outputs": [
        {
          "output_type": "execute_result",
          "data": {
            "text/html": [
              "<div>\n",
              "<style scoped>\n",
              "    .dataframe tbody tr th:only-of-type {\n",
              "        vertical-align: middle;\n",
              "    }\n",
              "\n",
              "    .dataframe tbody tr th {\n",
              "        vertical-align: top;\n",
              "    }\n",
              "\n",
              "    .dataframe thead th {\n",
              "        text-align: right;\n",
              "    }\n",
              "</style>\n",
              "<table border=\"1\" class=\"dataframe\">\n",
              "  <thead>\n",
              "    <tr style=\"text-align: right;\">\n",
              "      <th></th>\n",
              "      <th>metric</th>\n",
              "      <th>Linear Regression</th>\n",
              "      <th>XGBoost Regressor</th>\n",
              "    </tr>\n",
              "  </thead>\n",
              "  <tbody>\n",
              "    <tr>\n",
              "      <th>0</th>\n",
              "      <td>MSE</td>\n",
              "      <td>588.281250</td>\n",
              "      <td>431.454696</td>\n",
              "    </tr>\n",
              "    <tr>\n",
              "      <th>1</th>\n",
              "      <td>RMSE</td>\n",
              "      <td>24.254510</td>\n",
              "      <td>20.771488</td>\n",
              "    </tr>\n",
              "    <tr>\n",
              "      <th>2</th>\n",
              "      <td>MAPE</td>\n",
              "      <td>0.413605</td>\n",
              "      <td>0.671693</td>\n",
              "    </tr>\n",
              "  </tbody>\n",
              "</table>\n",
              "</div>"
            ],
            "text/plain": [
              "  metric  Linear Regression  XGBoost Regressor\n",
              "0    MSE         588.281250         431.454696\n",
              "1   RMSE          24.254510          20.771488\n",
              "2   MAPE           0.413605           0.671693"
            ]
          },
          "metadata": {},
          "execution_count": 63
        }
      ],
      "source": [
        "data1 = {'metric':['MSE', 'RMSE', 'MAPE'], 'Linear Regression': [lin_reg_mse, lin_reg_rmse, lin_reg_mape], 'XGBoost Regressor': [xgb_mse, xgb_rmse, xgb_mape]}\n",
        "mc = pd.DataFrame(data=data1)\n",
        "mc"
      ]
    },
    {
      "cell_type": "markdown",
      "source": [
        "## The final tuned model has to be done using pyCaret, which requires a specific version of scikit-learn. That means we have to continue the model comparison and conclusion part for the regression problem in a separate notebook (collab notebook) [data622_final_pt2.ipynb](https://colab.research.google.com/drive/1D9WKk9jFngCPnNP42yKDcvHpjnlWIhnL?authuser=1#scrollTo=c8Wf2WI0tTLm)."
      ],
      "metadata": {
        "id": "bfbO5XezWHWC"
      }
    },
    {
      "cell_type": "markdown",
      "metadata": {
        "id": "a3JJ8x-aBIiZ"
      },
      "source": [
        "## For the classification problem, this is a summary of what the performance of each of the models"
      ]
    },
    {
      "cell_type": "code",
      "execution_count": null,
      "metadata": {
        "colab": {
          "base_uri": "https://localhost:8080/",
          "height": 81
        },
        "id": "q91UPlWBAKKX",
        "outputId": "404bbbe7-ed37-46f3-82d4-55fc29396543"
      },
      "outputs": [
        {
          "output_type": "execute_result",
          "data": {
            "text/html": [
              "<div>\n",
              "<style scoped>\n",
              "    .dataframe tbody tr th:only-of-type {\n",
              "        vertical-align: middle;\n",
              "    }\n",
              "\n",
              "    .dataframe tbody tr th {\n",
              "        vertical-align: top;\n",
              "    }\n",
              "\n",
              "    .dataframe thead th {\n",
              "        text-align: right;\n",
              "    }\n",
              "</style>\n",
              "<table border=\"1\" class=\"dataframe\">\n",
              "  <thead>\n",
              "    <tr style=\"text-align: right;\">\n",
              "      <th></th>\n",
              "      <th>metric</th>\n",
              "      <th>Logistic Regression</th>\n",
              "      <th>Support Vector Machine</th>\n",
              "    </tr>\n",
              "  </thead>\n",
              "  <tbody>\n",
              "    <tr>\n",
              "      <th>0</th>\n",
              "      <td>accuracy</td>\n",
              "      <td>0.725</td>\n",
              "      <td>0.7</td>\n",
              "    </tr>\n",
              "  </tbody>\n",
              "</table>\n",
              "</div>"
            ],
            "text/plain": [
              "     metric  Logistic Regression  Support Vector Machine\n",
              "0  accuracy                0.725                     0.7"
            ]
          },
          "metadata": {},
          "execution_count": 64
        }
      ],
      "source": [
        "data2 = {'metric':['accuracy'], 'Logistic Regression': [0.725], 'Support Vector Machine': [0.7]}\n",
        "mc2 = pd.DataFrame(data=data2)\n",
        "mc2"
      ]
    },
    {
      "cell_type": "markdown",
      "metadata": {
        "id": "v_pitjIUs4fM"
      },
      "source": [
        "#**Conclusion**"
      ]
    },
    {
      "cell_type": "markdown",
      "metadata": {
        "id": "fSie4rUaFqVV"
      },
      "source": [
        "We had 3 different kind of analysis throughout our report: \n",
        "1. Customer Profiling \n",
        "2. Classification Problem: binary (or dichotomous) target predictions\n",
        "3. Regression Problem: Numerical predictions of Spending Score \n",
        "\n",
        "This is representative of what a real company would go through when analyzing their own customer data.  Each one of these types of analysis required manipulating our original data to fit the modeling technique.  Every analysis provided different actionable insights that can used to help identify customer patterns and increase customer spending rates.\n",
        "\n",
        "For instance, by **clustering using kMeans**, we were able to see that women tend to dominate high paying customers.  Customers over age 60 have less income and it might be helpful to find their occupation.  It would be interesting to see if this group is mostly retired.  Their spending habits likely differ than other groups.  It would also be helpful for the mall owner to collect data like average purchase cost to help drill down on customers spending habits. For higher cost items, you may want to target women since they make more money and could potentially have more disposable income\n",
        "\n"
      ]
    },
    {
      "cell_type": "markdown",
      "source": [
        "We realized that despite the data being numeric, regression did not fit well and because of that it would be difficult to predict the actual spending score accurately. We opted to change the problem into a classifaction one and got much better results from doing so. Although not as precise as regression, our models can still be used to predict a group of spender (above average or below average spender) before being assigned spending score; cutting in half the number of people a marketing agency would try to target"
      ],
      "metadata": {
        "id": "5MdcPvORSxpE"
      }
    }
  ],
  "metadata": {
    "colab": {
      "collapsed_sections": [],
      "name": "data622_final.ipynb",
      "provenance": [],
      "include_colab_link": true
    },
    "kernelspec": {
      "display_name": "Python 3",
      "name": "python3"
    },
    "language_info": {
      "name": "python"
    }
  },
  "nbformat": 4,
  "nbformat_minor": 0
}