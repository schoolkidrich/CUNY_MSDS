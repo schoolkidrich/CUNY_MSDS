{
 "cells": [
  {
   "cell_type": "code",
   "execution_count": 1,
   "metadata": {},
   "outputs": [],
   "source": [
    "def text_to_list(string):\n",
    "    return string.strip().split()\n",
    "\n",
    "\n",
    "def list_to_dict(arr):\n",
    "    mapping = dict()\n",
    "    for item in arr:\n",
    "        words = text_to_list(item)\n",
    "        for word in words:\n",
    "            if mapping.get(word):\n",
    "                continue\n",
    "            else:\n",
    "                mapping[word] = 0 \n",
    "    return mapping\n",
    "\n",
    "\n",
    "class word_bank:\n",
    "    \n",
    "    def __init__(self,*args):\n",
    "        self.text = list(args)\n",
    "        self.bank = list_to_dict(self.text)\n",
    "    \n",
    "                                \n",
    "    def binary_vector(self,text):\n",
    "        copy = self.bank.copy()\n",
    "        for word in text.split():\n",
    "            copy[word] = 1\n",
    "        return list(copy.values())\n",
    "    \n",
    "    \n",
    "    def frequency_vector(self,text):\n",
    "        copy2 = self.bank.copy()\n",
    "        for word in text.split():\n",
    "            copy2[word] += 1\n",
    "        return list(copy2.values())\n",
    "        \n",
    "        \n"
   ]
  },
  {
   "cell_type": "code",
   "execution_count": 2,
   "metadata": {},
   "outputs": [
    {
     "data": {
      "text/plain": [
       "['I hate doing homework',\n",
       " 'data engineering is cooler than data analysis',\n",
       " 'stocks only go up']"
      ]
     },
     "execution_count": 2,
     "metadata": {},
     "output_type": "execute_result"
    }
   ],
   "source": [
    "words = word_bank('I hate doing homework', \n",
    "                  'data engineering is cooler than data analysis', \n",
    "                  'stocks only go up')\n",
    "\n",
    "words.text"
   ]
  },
  {
   "cell_type": "code",
   "execution_count": 3,
   "metadata": {
    "scrolled": true
   },
   "outputs": [
    {
     "data": {
      "text/plain": [
       "{'I': 0,\n",
       " 'hate': 0,\n",
       " 'doing': 0,\n",
       " 'homework': 0,\n",
       " 'data': 0,\n",
       " 'engineering': 0,\n",
       " 'is': 0,\n",
       " 'cooler': 0,\n",
       " 'than': 0,\n",
       " 'analysis': 0,\n",
       " 'stocks': 0,\n",
       " 'only': 0,\n",
       " 'go': 0,\n",
       " 'up': 0}"
      ]
     },
     "execution_count": 3,
     "metadata": {},
     "output_type": "execute_result"
    }
   ],
   "source": [
    "words.bank"
   ]
  },
  {
   "cell_type": "code",
   "execution_count": 4,
   "metadata": {},
   "outputs": [
    {
     "name": "stdout",
     "output_type": "stream",
     "text": [
      "[1, 1, 1, 1, 0, 0, 0, 0, 0, 0, 0, 0, 0, 0]\n",
      "[0, 0, 0, 0, 2, 1, 1, 1, 1, 1, 0, 0, 0, 0]\n",
      "[0, 0, 0, 0, 0, 0, 0, 0, 0, 0, 1, 1, 1, 1]\n"
     ]
    }
   ],
   "source": [
    "for word in words.text:\n",
    "    print(words.frequency_vector(word))"
   ]
  }
 ],
 "metadata": {
  "kernelspec": {
   "display_name": "Python 3",
   "language": "python",
   "name": "python3"
  },
  "language_info": {
   "codemirror_mode": {
    "name": "ipython",
    "version": 3
   },
   "file_extension": ".py",
   "mimetype": "text/x-python",
   "name": "python",
   "nbconvert_exporter": "python",
   "pygments_lexer": "ipython3",
   "version": "3.8.5"
  }
 },
 "nbformat": 4,
 "nbformat_minor": 4
}
